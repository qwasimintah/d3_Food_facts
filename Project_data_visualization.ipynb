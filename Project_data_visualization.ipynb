{
 "cells": [
  {
   "cell_type": "code",
   "execution_count": 0,
   "metadata": {
    "colab": {},
    "colab_type": "code",
    "id": "SYULTgTp3krd"
   },
   "outputs": [],
   "source": [
    "import pandas as pd\n",
    "import os \n",
    "import json\n",
    "import re\n",
    "import math\n",
    "import numpy as np\n",
    "\n",
    "# from google.colab import files\n",
    "# uploaded = files.upload()\n",
    "# NotebookApp.iopub_data_rate_limit=10000000\n"
   ]
  },
  {
   "cell_type": "code",
   "execution_count": 4,
   "metadata": {
    "colab": {
     "base_uri": "https://localhost:8080/",
     "height": 581
    },
    "colab_type": "code",
    "id": "KbCAFyYx3krp",
    "outputId": "6bdee8a0-00aa-4f47-9ae2-a50a85863082"
   },
   "outputs": [
    {
     "name": "stdout",
     "output_type": "stream",
     "text": [
      "wines-from-portugal\n",
      "wines-from-america\n",
      "dessert-wines\n",
      "wines-from-austria\n",
      "wines-from-luxembourg\n",
      "fortified-wines\n",
      "wines-from-cyprus\n",
      "wines-from-georgia\n",
      "wines-from-brazil\n",
      "white-wines\n",
      "wines-from-italy\n",
      "flavoured-wines\n",
      "sparkling-wines\n",
      "non-alcoholic-wines\n",
      "wines-from-hungary\n",
      "red-wines\n",
      "wines-from-czech-republic\n",
      "federweisser\n",
      "wines-from-chile\n",
      "rosé-wines\n",
      "wines-from-greece\n",
      "wines-from-france\n",
      "wines-from-croatia\n",
      "wines-from-australia\n",
      "wines-from-malta\n",
      "wines-from-spain\n",
      "wine-without-geographic-indication\n",
      "wines-from-bulgaria\n",
      "wines-from-belgium\n",
      "wines-from-germany\n",
      "wines-from-canada\n"
     ]
    }
   ],
   "source": [
    "file = 'categories_taxonomy.tsv'\n",
    "df = pd.read_csv(file,delimiter='\\t',encoding='utf-8', low_memory=False)\n",
    "pd.set_option('display.max_columns', len(df.columns))\n",
    "pd.set_option('display.width', 1000)\n",
    "pd.set_option('display.max_rows', 10000)\n",
    "# print(df)\n",
    "# list(df)\n",
    "# df.head(20)\n",
    "df = df[df.parent =='wines'].children\n",
    "# print(df)\n",
    "for wines in df:\n",
    "  print(wines)"
   ]
  },
  {
   "cell_type": "code",
   "execution_count": 0,
   "metadata": {
    "colab": {},
    "colab_type": "code",
    "id": "u4QXjiwNaXCk"
   },
   "outputs": [],
   "source": [
    "wine_country = []\n",
    "wines = []\n",
    "alcohol = {}\n",
    "wine_name = {}\n",
    "prod_ids = {}\n",
    "result = {}\n",
    "\n",
    "category_taxonomy = pd.read_csv('categories_taxonomy.tsv',delimiter='\\t',encoding='utf-8', low_memory=False)\n",
    "\n",
    "product_category = pd.read_csv('products_categories_full.tsv',delimiter='\\t',encoding='utf-8', low_memory=False)\n",
    "\n",
    "products = pd.read_csv('products.tsv',delimiter='\\t',encoding='utf-8', low_memory=False)\n",
    "\n",
    "wines = category_taxonomy[category_taxonomy.parent == 'wines'].children\n",
    "\n",
    "for country in wines:\n",
    "  if re.findall(r'wines-from-*',country):\n",
    "    wine_country.append(country)\n",
    "  result[country] = wine_country\n",
    "print(result)\n",
    "# print(wine_country)\n",
    "\n",
    "for wines in wine_country:\n",
    "  wine_name[wines] = category_taxonomy[category_taxonomy.parent == wines].children\n",
    "\n",
    "for keys,val in wine_name.items():\n",
    "#   print(keys + '->' + val)\n",
    "  for item in val:\n",
    "    prod_ids[item] = product_category[product_category.category == item].code\n",
    "\n",
    "for key, codes in prod_ids.items():\n",
    "  print(key + '->' + codes)\n",
    "  for cod in codes:\n",
    "#     tp = products['alcohol_100g'].mean()\n",
    "    alcohol[cod] = products[products.code == cod].alcohol_100g.mean()\n",
    "      \n",
    "#     alcohol.append(products[products.code == cod].alcohol_100g.dropna())\n",
    "# print(alcohol)"
   ]
  },
  {
   "cell_type": "code",
   "execution_count": 62,
   "metadata": {
    "colab": {
     "base_uri": "https://localhost:8080/",
     "height": 55
    },
    "colab_type": "code",
    "id": "GT_TX0Ux3krx",
    "outputId": "76377a75-577d-46d9-b21e-5f810ed16dec"
   },
   "outputs": [
    {
     "name": "stdout",
     "output_type": "stream",
     "text": [
      "{'name': 'alcoholic-beverages', 'children': [{'name': 'artisanal-spirits', 'children': [{'name': 'artisanal-ciders', 'size': 16}, {'name': 'craft-beers', 'size': 11}]}, {'name': 'liqueurs', 'children': [{'name': 'herbal-liqueur', 'size': 14}]}, {'name': 'hard-liquors', 'children': [{'name': 'tequilas', 'size': 8}]}, {'name': 'wines', 'children': [{'name': 'wines-from-portugal', 'children': [{'name': 'madeira-wine', 'size': 12}]}, {'name': 'wines-from-america', 'children': [{'name': 'wines-from-california', 'size': 21}]}, {'name': 'dessert-wines', 'size': 13}, {'name': 'wines-from-austria', 'size': 18}, {'name': 'wines-from-luxembourg', 'size': 21}, {'name': 'fortified-wines', 'children': [{'name': 'fortified-wines-such-as-natural-sweet-wines', 'size': 43}]}, {'name': 'wines-from-cyprus', 'size': 17}, {'name': 'wines-from-georgia', 'size': 18}, {'name': 'wines-from-brazil', 'size': 17}, {'name': 'white-wines', 'children': [{'name': 'white-ports', 'size': 11}]}, {'name': 'wines-from-italy', 'children': [{'name': 'chianti', 'size': 7}]}, {'name': 'flavoured-wines', 'size': 15}, {'name': 'sparkling-wines', 'children': [{'name': 'beading-wines', 'size': 13}, {'name': 'sekt', 'size': 4}, {'name': 'champagnes', 'children': [{'name': 'french-champagnes', 'size': 17}, {'name': 'russian-champagne', 'size': 17}]}]}, {'name': 'non-alcoholic-wines', 'size': 19}, {'name': 'wines-from-hungary', 'size': 18}, {'name': 'red-wines', 'children': [{'name': 'red-ports', 'size': 9}, {'name': 'organic-red-wines', 'size': 17}]}, {'name': 'wines-from-czech-republic', 'size': 25}, {'name': 'federweisser', 'size': 12}, {'name': 'wines-from-chile', 'size': 16}, {'name': 'rosé-wines', 'size': 10}, {'name': 'wines-from-greece', 'size': 17}, {'name': 'wines-from-france', 'children': [{'name': 'burgundy-wines', 'children': [{'name': 'maconnais-wines', 'size': 15}]}, {'name': 'bordeaux', 'children': [{'name': 'medoc-wines', 'size': 11}]}, {'name': 'french-champagnes', 'size': 17}, {'name': 'valençay-wine', 'size': 13}, {'name': \"côtes-d'auvergne\", 'size': 16}]}, {'name': 'wines-from-croatia', 'size': 18}, {'name': 'wines-from-australia', 'children': [{'name': 'west-australian-wine', 'size': 20}, {'name': 'south-australian-wine', 'size': 21}]}, {'name': 'wines-from-malta', 'children': [{'name': 'malta', 'size': 5}, {'name': 'gozo', 'size': 4}, {'name': 'maltese-islands', 'size': 15}]}, {'name': 'wines-from-spain', 'size': 16}, {'name': 'wine-without-geographic-indication', 'size': 34}, {'name': 'wines-from-bulgaria', 'size': 19}, {'name': 'wines-from-belgium', 'size': 18}, {'name': 'wines-from-germany', 'size': 18}, {'name': 'wines-from-canada', 'children': [{'name': 'lake-erie-north-shore', 'size': 21}, {'name': 'similkameen-valley', 'size': 18}, {'name': 'vancouver-island', 'size': 16}, {'name': 'niagara-peninsula', 'size': 17}, {'name': 'fraser-valley', 'size': 13}, {'name': 'pelee-island', 'size': 12}, {'name': 'okanagan-valley', 'size': 15}]}]}, {'name': 'beers', 'children': [{'name': 'red-beer', 'size': 8}, {'name': 'craft-beers', 'size': 11}, {'name': 'beers-with-fruits', 'children': [{'name': 'beers-with-chestnut', 'size': 19}, {'name': 'beers-with-pear', 'size': 15}, {'name': 'cherry-beers', 'size': 12}]}, {'name': 'strong-beers', 'size': 12}, {'name': 'italian-beers', 'size': 13}, {'name': 'quadruple-beer', 'size': 14}, {'name': 'flavored-beers', 'size': 14}, {'name': 'french-beers', 'children': [{'name': 'corsican-beers', 'size': 14}, {'name': 'brittany-beers', 'size': 14}]}, {'name': 'stout', 'size': 5}, {'name': 'triple-beer', 'size': 11}, {'name': 'double-beer', 'size': 11}, {'name': 'beers-from-united-kingdom', 'children': [{'name': 'kentish-ale', 'size': 11}, {'name': 'rutland-bitter', 'size': 14}, {'name': 'newcastle-brown-ale', 'size': 19}]}, {'name': 'beers-from-germany', 'children': [{'name': 'bavarian-beers', 'size': 14}, {'name': 'beers-from-bremen', 'size': 17}, {'name': 'kölsch', 'size': 6}, {'name': 'beers-from-dortmund', 'size': 19}]}, {'name': 'wheat-beers', 'size': 11}, {'name': 'belgian-beers', 'size': 13}, {'name': 'beers-from-czech-republic', 'size': 25}, {'name': 'amber-beers', 'size': 11}, {'name': 'lagers', 'size': 6}, {'name': 'beers-from-ireland', 'size': 18}, {'name': 'organic-beers', 'size': 13}, {'name': 'abbey-beer', 'size': 10}]}, {'name': 'schnapps', 'size': 8}, {'name': 'wine-based-drinks', 'size': 17}, {'name': 'sake', 'size': 4}, {'name': 'distilled-beverages', 'children': [{'name': 'fruit-brandy', 'children': [{'name': 'pálinka', 'children': [{'name': 'hungarian-pálinka', 'size': 17}, {'name': 'austrian-pálinka', 'size': 16}]}]}]}, {'name': 'ciders', 'children': [{'name': 'sweet-ciders', 'size': 12}, {'name': 'pink-ciders', 'size': 11}, {'name': 'traditional-ciders', 'size': 18}, {'name': 'sparkling-ciders', 'size': 16}, {'name': 'artisanal-ciders', 'size': 16}]}]}\n"
     ]
    }
   ],
   "source": [
    "\n",
    "category_taxonomy = pd.read_csv('categories_taxonomy.tsv',delimiter='\\t',encoding='utf-8', low_memory=False)\n",
    "\n",
    "product_category = pd.read_csv('products_categories_full.tsv',delimiter='\\t',encoding='utf-8', low_memory=False)\n",
    "\n",
    "products = pd.read_csv('products.tsv',delimiter='\\t',encoding='utf-8', low_memory=False)\n",
    "\n",
    "alcohols = category_taxonomy[category_taxonomy.parent == 'alcoholic-beverages'].children\n",
    "\n",
    " \n",
    "# for items in category_taxonomy[category_taxonomy.parent == 'artisanal-ciders'].children:\n",
    "#   print (items)\n",
    "\n",
    "# if(category_taxonomy[category_taxonomy.parent == 'artisanal-ciders'].children.empty):\n",
    "#   print (\"here\")\n",
    "\n",
    "  \n",
    "def get_childs(name, dic2):\n",
    "  \n",
    "  if(category_taxonomy[category_taxonomy.parent == name].children.empty):\n",
    "    #print (\"here\")\n",
    "    dic3 = {\"name\":str(name) ,\"size\": len(str(name))}\n",
    "    return dic3\n",
    "  else:\n",
    "    temp3 = {}\n",
    "    \n",
    "    l1 = category_taxonomy[category_taxonomy.parent == name].children\n",
    "    childs = []\n",
    "    for items in l1:\n",
    "      dic2 = {}\n",
    "      childs.append(get_childs(items, dic2))\n",
    "      \n",
    "    temp3[\"name\"] = str(name)  \n",
    "    temp3[\"children\"] = childs\n",
    "    \n",
    "    return temp3\n",
    "    \n",
    "     \n",
    "   \n",
    "root_name = \"alcoholic-beverages\"\n",
    "root = {}\n",
    "for alcohol in alcohols:\n",
    "  root[\"name\"] = str(root_name)\n",
    "  \n",
    "  temp = {}\n",
    "  second_root = get_childs(alcohol, temp)\n",
    "  try:\n",
    "    root[\"children\"].append(second_root)\n",
    "  except:\n",
    "    root[\"children\"] = [second_root]\n",
    "print (root)\n",
    "\n",
    "with open('alcoholic-beverages.json', 'w') as fp:\n",
    "    json.dump(root, fp)\n"
   ]
  },
  {
   "cell_type": "markdown",
   "metadata": {
    "colab_type": "text",
    "id": "IPx8RjDbL91G"
   },
   "source": []
  },
  {
   "cell_type": "code",
   "execution_count": 0,
   "metadata": {
    "colab": {},
    "colab_type": "code",
    "id": "llVPcsXOAM5A"
   },
   "outputs": [],
   "source": []
  }
 ],
 "metadata": {
  "accelerator": "TPU",
  "colab": {
   "collapsed_sections": [],
   "name": "Project data visualization.ipynb",
   "provenance": [],
   "version": "0.3.2"
  },
  "kernelspec": {
   "display_name": "Python 3",
   "language": "python",
   "name": "python3"
  },
  "language_info": {
   "codemirror_mode": {
    "name": "ipython",
    "version": 3
   },
   "file_extension": ".py",
   "mimetype": "text/x-python",
   "name": "python",
   "nbconvert_exporter": "python",
   "pygments_lexer": "ipython3",
   "version": "3.7.0"
  }
 },
 "nbformat": 4,
 "nbformat_minor": 1
}
